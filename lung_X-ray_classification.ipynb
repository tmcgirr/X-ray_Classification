{
 "cells": [
  {
   "cell_type": "markdown",
   "id": "85175f0b",
   "metadata": {},
   "source": [
    "Basic CNN Classification Model"
   ]
  },
  {
   "cell_type": "markdown",
   "id": "395c82c1",
   "metadata": {},
   "source": [
    "Project Description: Covid-19 Lung X-ray classification."
   ]
  },
  {
   "cell_type": "markdown",
   "id": "cd369a68",
   "metadata": {},
   "source": [
    "Data"
   ]
  },
  {
   "cell_type": "markdown",
   "id": "477b5583",
   "metadata": {},
   "source": [
    "Import Libraries\n"
   ]
  },
  {
   "cell_type": "code",
   "execution_count": 1,
   "id": "dc76f8fc",
   "metadata": {},
   "outputs": [],
   "source": [
    "import tensorflow as tf\n",
    "from tensorflow import keras\n",
    "from tensorflow.keras.models import Sequential\n",
    "from tensorflow.keras.preprocessing.image import ImageDataGenerator\n",
    "\n",
    "from sklearn.metrics import classification_report\n",
    "from sklearn.metrics import confusion_matrix\n",
    "\n",
    "from tensorflow.keras.callbacks import EarlyStopping\n",
    "from tensorflow.keras import layers\n",
    "\n",
    "import matplotlib.pyplot as plt\n",
    "import numpy"
   ]
  },
  {
   "cell_type": "markdown",
   "id": "754a26b7",
   "metadata": {},
   "source": [
    "Load Data using ImageGenerator"
   ]
  },
  {
   "cell_type": "code",
   "execution_count": 2,
   "id": "c9bb6b20",
   "metadata": {},
   "outputs": [],
   "source": [
    "#Construct an ImageDataGenerator object:\n",
    "DIRECTORY = \"Covid19-dataset/train\"\n",
    "CLASS_MODE = \"categorical\"\n",
    "COLOR_MODE = \"grayscale\"\n",
    "TARGET_SIZE = (256,256)\n",
    "BATCH_SIZE = 32\n",
    "\n",
    "training_data_generator = ImageDataGenerator(rescale=1.0/255,\n",
    "\n",
    "#Randomly increase or decrease the size of the image by up to 10%\n",
    "zoom_range=0.1, \n",
    "\n",
    "#Randomly rotate the image between -25,25 degrees\n",
    "rotation_range=25, \n",
    "\n",
    "#Shift the image along its width by up to +/- 5%\n",
    "width_shift_range=0.05, \n",
    "\n",
    "#Shift the image along its height by up to +/- 5%\n",
    "height_shift_range=0.05,\n",
    "\n",
    ")\n",
    "\n",
    "validation_data_generator = ImageDataGenerator()"
   ]
  },
  {
   "cell_type": "markdown",
   "id": "1ced0ae9",
   "metadata": {},
   "source": [
    "Load Image Data (Create train set and test/validation set)"
   ]
  },
  {
   "cell_type": "code",
   "execution_count": 3,
   "id": "c6c50a13",
   "metadata": {},
   "outputs": [
    {
     "name": "stdout",
     "output_type": "stream",
     "text": [
      "Found 251 images belonging to 3 classes.\n",
      "\n",
      "Loading validation data...\n",
      "Found 251 images belonging to 3 classes.\n"
     ]
    }
   ],
   "source": [
    "training_iterator = training_data_generator.flow_from_directory(DIRECTORY,class_mode='categorical',color_mode='grayscale',batch_size=BATCH_SIZE)#, subset='training')\n",
    "\n",
    "training_iterator.next()\n",
    "\n",
    "print(\"\\nLoading validation data...\")\n",
    "\n",
    "\n",
    "validation_iterator = validation_data_generator.flow_from_directory(DIRECTORY,class_mode='categorical', color_mode='grayscale',batch_size=BATCH_SIZE)#, subset='validation')\n",
    "\n",
    "#Print its attributes:\n",
    "# print(training_data_generator.__dict__)\n"
   ]
  },
  {
   "cell_type": "markdown",
   "id": "2c9d439e",
   "metadata": {},
   "source": [
    "Create Model"
   ]
  },
  {
   "cell_type": "code",
   "execution_count": 4,
   "id": "320d93b8",
   "metadata": {},
   "outputs": [
    {
     "name": "stdout",
     "output_type": "stream",
     "text": [
      "\n",
      "Building model...\n",
      "\n",
      "Compiling model...\n",
      "Model: \"sequential\"\n",
      "_________________________________________________________________\n",
      " Layer (type)                Output Shape              Param #   \n",
      "=================================================================\n",
      " conv2d (Conv2D)             (None, 84, 84, 5)         130       \n",
      "                                                                 \n",
      " max_pooling2d (MaxPooling2D  (None, 42, 42, 5)        0         \n",
      " )                                                               \n",
      "                                                                 \n",
      " dropout (Dropout)           (None, 42, 42, 5)         0         \n",
      "                                                                 \n",
      " conv2d_1 (Conv2D)           (None, 40, 40, 3)         138       \n",
      "                                                                 \n",
      " max_pooling2d_1 (MaxPooling  (None, 20, 20, 3)        0         \n",
      " 2D)                                                             \n",
      "                                                                 \n",
      " dropout_1 (Dropout)         (None, 20, 20, 3)         0         \n",
      "                                                                 \n",
      " flatten (Flatten)           (None, 1200)              0         \n",
      "                                                                 \n",
      " dense (Dense)               (None, 3)                 3603      \n",
      "                                                                 \n",
      "=================================================================\n",
      "Total params: 3,871\n",
      "Trainable params: 3,871\n",
      "Non-trainable params: 0\n",
      "_________________________________________________________________\n",
      "\n",
      "Training model...\n"
     ]
    },
    {
     "name": "stderr",
     "output_type": "stream",
     "text": [
      "2022-05-29 15:40:01.934360: I tensorflow/core/platform/cpu_feature_guard.cc:193] This TensorFlow binary is optimized with oneAPI Deep Neural Network Library (oneDNN) to use the following CPU instructions in performance-critical operations:  AVX2 FMA\n",
      "To enable them in other operations, rebuild TensorFlow with the appropriate compiler flags.\n"
     ]
    }
   ],
   "source": [
    "print(\"\\nBuilding model...\")\n",
    "\n",
    "def design_model(training_data):\n",
    "    # sequential model\n",
    "    model = Sequential()\n",
    "    # add input layer with grayscale image shape\n",
    "    model.add(tf.keras.Input(shape=(256, 256, 1)))\n",
    "    # convolutional hidden layers with relu functions\n",
    "    # maxpooling layers and dropout layers as well\n",
    "    model.add(layers.Conv2D(5, 5, strides=3, activation=\"relu\")) \n",
    "    model.add(layers.MaxPooling2D(\n",
    "        pool_size=(2, 2), strides=(2,2)))\n",
    "    model.add(layers.Dropout(0.1))\n",
    "    model.add(layers.Conv2D(3, 3, strides=1, activation=\"relu\")) \n",
    "    model.add(layers.MaxPooling2D(\n",
    "        pool_size=(2, 2), strides=(2,2)))\n",
    "    model.add(layers.Dropout(0.2))\n",
    "\n",
    "    # experimenting with extra layesr\n",
    "    #model.add(tf.keras.layers.Conv2D(3, 3, strides=1, activation=\"relu\"))\n",
    "    #model.add(tf.keras.layers.Conv2D(1, 1, strides=1, activation=\"relu\"))\n",
    "    #model.add(tf.keras.layers.Dropout(0.1))\n",
    "\n",
    "    model.add(layers.Flatten())\n",
    "    # output layer with softmax activation function\n",
    "    model.add(layers.Dense(3,activation=\"softmax\"))\n",
    "    # compile model with Adam optimizer\n",
    "    # loss function is categorical crossentropy\n",
    "    # metrics are categorical accuracy and AUC\n",
    "    print(\"\\nCompiling model...\")\n",
    "    model.compile(optimizer=tf.keras.optimizers.Adam(learning_rate=.001), loss=tf.keras.losses.CategoricalCrossentropy(), metrics=[tf.keras.metrics.CategoricalAccuracy(),tf.keras.metrics.AUC()],)\n",
    "    # summarize model\n",
    "    model.summary()\n",
    "    return model\n",
    "\n",
    "# use model function\n",
    "model = design_model(training_iterator)\n",
    "\n",
    "# early stopping implementation\n",
    "es = EarlyStopping(monitor='val_auc', mode='min', verbose=1, patience=20)\n",
    "\n",
    "print(\"\\nTraining model...\")\n"
   ]
  },
  {
   "cell_type": "markdown",
   "id": "0a28e21a",
   "metadata": {},
   "source": [
    "Test Model"
   ]
  },
  {
   "cell_type": "code",
   "execution_count": 5,
   "id": "4e4c5f9c",
   "metadata": {},
   "outputs": [
    {
     "name": "stdout",
     "output_type": "stream",
     "text": [
      "Epoch 1/5\n",
      "7/7 [==============================] - 3s 337ms/step - loss: 1.0887 - categorical_accuracy: 0.3984 - auc: 0.5616 - val_loss: 31.9450 - val_categorical_accuracy: 0.4422 - val_auc: 0.5817\n",
      "Epoch 2/5\n",
      "7/7 [==============================] - 2s 262ms/step - loss: 1.0582 - categorical_accuracy: 0.4462 - auc: 0.6284 - val_loss: 28.7885 - val_categorical_accuracy: 0.4462 - val_auc: 0.5847\n",
      "Epoch 3/5\n",
      "7/7 [==============================] - 2s 267ms/step - loss: 1.0428 - categorical_accuracy: 0.4701 - auc: 0.6496 - val_loss: 16.2031 - val_categorical_accuracy: 0.5219 - val_auc: 0.6442\n",
      "Epoch 4/5\n",
      "7/7 [==============================] - 2s 285ms/step - loss: 0.9820 - categorical_accuracy: 0.5339 - auc: 0.7458 - val_loss: 30.7283 - val_categorical_accuracy: 0.5378 - val_auc: 0.6560\n",
      "Epoch 5/5\n",
      "7/7 [==============================] - 2s 293ms/step - loss: 0.9068 - categorical_accuracy: 0.6016 - auc: 0.7983 - val_loss: 19.5172 - val_categorical_accuracy: 0.6773 - val_auc: 0.7689\n"
     ]
    }
   ],
   "source": [
    "# fit the model with 10 ephochs and early stopping\n",
    "history =model.fit(\n",
    "        training_iterator,\n",
    "        steps_per_epoch=training_iterator.samples/BATCH_SIZE, epochs=5,\n",
    "        validation_data=validation_iterator,\n",
    "        validation_steps=validation_iterator.samples/BATCH_SIZE,\n",
    "        callbacks=[es])"
   ]
  },
  {
   "cell_type": "markdown",
   "id": "d82cc90e",
   "metadata": {},
   "source": [
    "Plot Model (Cross-Entropy loss over each epoch)"
   ]
  },
  {
   "cell_type": "code",
   "execution_count": 9,
   "id": "9c8de180",
   "metadata": {},
   "outputs": [
    {
     "data": {
      "image/png": "[encoded data removed]",
      "text/plain": [
       "<Figure size 432x288 with 2 Axes>"
      ]
     },
     "metadata": {
      "needs_background": "light"
     },
     "output_type": "display_data"
    }
   ],
   "source": [
    "# plotting categorical and validation accuracy over epochs\n",
    "fig = plt.figure()\n",
    "ax1 = fig.add_subplot(2, 1, 1)\n",
    "ax1.plot(history.history['categorical_accuracy'])\n",
    "ax1.plot(history.history['val_categorical_accuracy'])\n",
    "ax1.set_title('model accuracy')\n",
    "ax1.set_xlabel('epoch')\n",
    "ax1.set_ylabel('accuracy')\n",
    "ax1.legend(['train', 'validation'], loc='upper left')\n",
    "\n",
    "# plotting auc and validation auc over epochs\n",
    "ax2 = fig.add_subplot(2, 1, 2)\n",
    "ax2.plot(history.history['auc'])\n",
    "ax2.plot(history.history['val_auc'])\n",
    "ax2.set_title('model auc')\n",
    "ax2.set_xlabel('epoch')\n",
    "ax2.set_ylabel('auc')\n",
    "ax2.legend(['train', 'validation'], loc='upper left')\n",
    "\n",
    "fig.tight_layout()\n",
    "plt.show()"
   ]
  },
  {
   "cell_type": "markdown",
   "id": "813a62fa",
   "metadata": {},
   "source": [
    "Classification Report"
   ]
  },
  {
   "cell_type": "code",
   "execution_count": 7,
   "id": "299dfa49",
   "metadata": {},
   "outputs": [
    {
     "name": "stdout",
     "output_type": "stream",
     "text": [
      "8/8 [==============================] - 1s 69ms/step\n",
      "              precision    recall  f1-score   support\n",
      "\n",
      "       Covid       0.44      0.68      0.53       111\n",
      "      Normal       0.57      0.06      0.10        70\n",
      "   Pneumonia       0.34      0.34      0.34        70\n",
      "\n",
      "    accuracy                           0.41       251\n",
      "   macro avg       0.45      0.36      0.33       251\n",
      "weighted avg       0.45      0.41      0.36       251\n",
      "\n"
     ]
    }
   ],
   "source": [
    "test_steps_per_epoch = numpy.math.ceil(validation_iterator.samples / validation_iterator.batch_size)\n",
    "predictions = model.predict(validation_iterator, steps=test_steps_per_epoch)\n",
    "test_steps_per_epoch = numpy.math.ceil(validation_iterator.samples / validation_iterator.batch_size)\n",
    "predicted_classes = numpy.argmax(predictions, axis=1)\n",
    "true_classes = validation_iterator.classes\n",
    "class_labels = list(validation_iterator.class_indices.keys())\n",
    "report = classification_report(true_classes, predicted_classes, target_names=class_labels)\n",
    "print(report) "
   ]
  },
  {
   "cell_type": "markdown",
   "id": "836b93f2",
   "metadata": {},
   "source": [
    "Confusion Matrix"
   ]
  },
  {
   "cell_type": "code",
   "execution_count": 8,
   "id": "504218dd",
   "metadata": {},
   "outputs": [
    {
     "name": "stdout",
     "output_type": "stream",
     "text": [
      "[[76  2 33]\n",
      " [53  4 13]\n",
      " [45  1 24]]\n"
     ]
    }
   ],
   "source": [
    "cm=confusion_matrix(true_classes,predicted_classes)\n",
    "print(cm)\n"
   ]
  }
 ],
 "metadata": {
  "kernelspec": {
   "display_name": "Python 3 (ipykernel)",
   "language": "python",
   "name": "python3"
  },
  "language_info": {
   "codemirror_mode": {
    "name": "ipython",
    "version": 3
   },
   "file_extension": ".py",
   "mimetype": "text/x-python",
   "name": "python",
   "nbconvert_exporter": "python",
   "pygments_lexer": "ipython3",
   "version": "3.9.7"
  }
 },
 "nbformat": 4,
 "nbformat_minor": 5
}
